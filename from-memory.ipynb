{
 "cells": [
  {
   "cell_type": "code",
   "execution_count": 12,
   "metadata": {},
   "outputs": [
    {
     "name": "stdout",
     "output_type": "stream",
     "text": [
      "Iteration: 0, weight: 0.32, pred: 1.5, error: 0.36\n",
      "Iteration: 1, weight: 0.30200000000000005, pred: 0.96, error: 0.003599999999999993\n",
      "Iteration: 2, weight: 0.3002, pred: 0.9060000000000001, error: 3.60000000000014e-05\n",
      "Iteration: 3, weight: 0.30002, pred: 0.9006000000000001, error: 3.6000000000005394e-07\n",
      "Iteration: 4, weight: 0.300002, pred: 0.9000600000000001, error: 3.6000000000072006e-09\n",
      "Iteration: 5, weight: 0.3000002, pred: 0.900006, error: 3.599999999940587e-11\n",
      "Iteration: 6, weight: 0.30000002, pred: 0.9000006, error: 3.600000000207041e-13\n",
      "Iteration: 7, weight: 0.300000002, pred: 0.90000006, error: 3.599999996210238e-15\n",
      "Iteration: 8, weight: 0.3000000002, pred: 0.900000006, error: 3.599999929596857e-17\n",
      "Iteration: 9, weight: 0.30000000002000005, pred: 0.9000000006, error: 3.5999992634630793e-19\n",
      "Iteration: 10, weight: 0.300000000002, pred: 0.9000000000600001, error: 3.6000139184204196e-21\n",
      "Iteration: 11, weight: 0.3000000000002, pred: 0.900000000006, error: 3.599973950425204e-23\n",
      "Iteration: 12, weight: 0.30000000000002003, pred: 0.9000000000006, error: 3.59957428267574e-25\n",
      "Iteration: 13, weight: 0.300000000000002, pred: 0.9000000000000601, error: 3.607571853140484e-27\n",
      "Iteration: 14, weight: 0.3000000000000002, pred: 0.9000000000000059, error: 3.462359816821597e-29\n",
      "Iteration: 15, weight: 0.30000000000000004, pred: 0.9000000000000006, error: 3.0814879110195774e-31\n",
      "Iteration: 16, weight: 0.3, pred: 0.9000000000000001, error: 1.232595164407831e-32\n",
      "Iteration: 17, weight: 0.30000000000000004, pred: 0.8999999999999999, error: 1.232595164407831e-32\n",
      "Iteration: 18, weight: 0.3, pred: 0.9000000000000001, error: 1.232595164407831e-32\n",
      "Iteration: 19, weight: 0.30000000000000004, pred: 0.8999999999999999, error: 1.232595164407831e-32\n",
      "Iteration: 20, weight: 0.3, pred: 0.9000000000000001, error: 1.232595164407831e-32\n",
      "Iteration: 21, weight: 0.30000000000000004, pred: 0.8999999999999999, error: 1.232595164407831e-32\n",
      "Iteration: 22, weight: 0.3, pred: 0.9000000000000001, error: 1.232595164407831e-32\n",
      "Iteration: 23, weight: 0.30000000000000004, pred: 0.8999999999999999, error: 1.232595164407831e-32\n",
      "Iteration: 24, weight: 0.3, pred: 0.9000000000000001, error: 1.232595164407831e-32\n",
      "Iteration: 25, weight: 0.30000000000000004, pred: 0.8999999999999999, error: 1.232595164407831e-32\n",
      "Iteration: 26, weight: 0.3, pred: 0.9000000000000001, error: 1.232595164407831e-32\n",
      "Iteration: 27, weight: 0.30000000000000004, pred: 0.8999999999999999, error: 1.232595164407831e-32\n",
      "Iteration: 28, weight: 0.3, pred: 0.9000000000000001, error: 1.232595164407831e-32\n",
      "Iteration: 29, weight: 0.30000000000000004, pred: 0.8999999999999999, error: 1.232595164407831e-32\n",
      "Iteration: 30, weight: 0.3, pred: 0.9000000000000001, error: 1.232595164407831e-32\n",
      "Iteration: 31, weight: 0.30000000000000004, pred: 0.8999999999999999, error: 1.232595164407831e-32\n",
      "Iteration: 32, weight: 0.3, pred: 0.9000000000000001, error: 1.232595164407831e-32\n",
      "Iteration: 33, weight: 0.30000000000000004, pred: 0.8999999999999999, error: 1.232595164407831e-32\n",
      "Iteration: 34, weight: 0.3, pred: 0.9000000000000001, error: 1.232595164407831e-32\n",
      "Iteration: 35, weight: 0.30000000000000004, pred: 0.8999999999999999, error: 1.232595164407831e-32\n",
      "Iteration: 36, weight: 0.3, pred: 0.9000000000000001, error: 1.232595164407831e-32\n",
      "Iteration: 37, weight: 0.30000000000000004, pred: 0.8999999999999999, error: 1.232595164407831e-32\n",
      "Iteration: 38, weight: 0.3, pred: 0.9000000000000001, error: 1.232595164407831e-32\n",
      "Iteration: 39, weight: 0.30000000000000004, pred: 0.8999999999999999, error: 1.232595164407831e-32\n"
     ]
    }
   ],
   "source": [
    "# Initial learning rate, controls how quickly the model learns from its training data.\n",
    "weight = 0.5\n",
    "\n",
    "# Target or desired output value that the model aims to predict.\n",
    "goal_pred = 0.9\n",
    "\n",
    "# Value used for the prediction\n",
    "input = 3\n",
    "\n",
    "# How quickly the model updates its weights, a lower value means smaller updates\n",
    "# while a higher value means larger updates.\n",
    "alpha = 0.1\n",
    "\n",
    "for iteration in range(40):\n",
    "    # Calculate the prediction\n",
    "    pred = input * weight\n",
    "\n",
    "    # Calculate the error\n",
    "    error = (pred - goal_pred) ** 2\n",
    "\n",
    "    # Calculate the loss function with respect to the weight calculated.\n",
    "    derivative = input * (pred - goal_pred)\n",
    "\n",
    "    # Update the weight\n",
    "    weight = weight - (alpha * derivative)\n",
    "\n",
    "    print(f'Iteration: {iteration}, weight: {weight}, pred: {pred}, error: {error}')\n"
   ]
  }
 ],
 "metadata": {
  "kernelspec": {
   "display_name": "Python 3",
   "language": "python",
   "name": "python3"
  },
  "language_info": {
   "codemirror_mode": {
    "name": "ipython",
    "version": 3
   },
   "file_extension": ".py",
   "mimetype": "text/x-python",
   "name": "python",
   "nbconvert_exporter": "python",
   "pygments_lexer": "ipython3",
   "version": "3.9.6"
  }
 },
 "nbformat": 4,
 "nbformat_minor": 2
}
