{
 "cells": [
  {
   "cell_type": "code",
   "execution_count": 4,
   "metadata": {},
   "outputs": [
    {
     "name": "stdout",
     "output_type": "stream",
     "text": [
      "[0.2, 0.6, 1.5]\n",
      "[1.2, 2.3, 3.5]\n",
      "6\n",
      "2.0\n"
     ]
    }
   ],
   "source": [
    "def elementwise_muliplication(vec_a, vec_b):\n",
    "    output = []\n",
    "    for i in range(len(vec_a)):\n",
    "        output.append(vec_a[i] * vec_b[i])\n",
    "    \n",
    "    return output\n",
    "\n",
    "def elementwise_addition(vec_a, vec_b):\n",
    "    output = []\n",
    "    for i in range(len(vec_a)):\n",
    "        output.append(vec_a[i] + vec_b[i])\n",
    "    \n",
    "    return output\n",
    "\n",
    "def vector_sum(vec_a):\n",
    "    return sum(vec_a)\n",
    "\n",
    "def vector_average(vec_a):\n",
    "    return sum(vec_a) / len(vec_a)\n",
    "\n",
    "vect_a = [1, 2, 3]\n",
    "vect_b = [0.2, 0.3, 0.5]\n",
    "\n",
    "pred = elementwise_muliplication(vect_a, vect_b)\n",
    "print(pred)\n",
    "\n",
    "pred = elementwise_addition(vect_a, vect_b)\n",
    "\n",
    "print(pred)\n",
    "\n",
    "pred = vector_sum(vect_a)\n",
    "\n",
    "print(pred)\n",
    "\n",
    "pred = vector_average(vect_a)\n",
    "\n",
    "print(pred)"
   ]
  }
 ],
 "metadata": {
  "kernelspec": {
   "display_name": "Python 3",
   "language": "python",
   "name": "python3"
  },
  "language_info": {
   "codemirror_mode": {
    "name": "ipython",
    "version": 3
   },
   "file_extension": ".py",
   "mimetype": "text/x-python",
   "name": "python",
   "nbconvert_exporter": "python",
   "pygments_lexer": "ipython3",
   "version": "3.9.6"
  }
 },
 "nbformat": 4,
 "nbformat_minor": 2
}
